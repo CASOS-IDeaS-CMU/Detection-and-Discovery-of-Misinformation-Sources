{
 "cells": [
  {
   "cell_type": "code",
   "execution_count": 13,
   "metadata": {},
   "outputs": [
    {
     "name": "stderr",
     "output_type": "stream",
     "text": [
      "/tmp/ipykernel_3239/289999582.py:8: SettingWithCopyWarning: \n",
      "A value is trying to be set on a copy of a slice from a DataFrame\n",
      "\n",
      "See the caveats in the documentation: https://pandas.pydata.org/pandas-docs/stable/user_guide/indexing.html#returning-a-view-versus-a-copy\n",
      "  df['label'][row] = 0\n",
      "/tmp/ipykernel_3239/289999582.py:6: SettingWithCopyWarning: \n",
      "A value is trying to be set on a copy of a slice from a DataFrame\n",
      "\n",
      "See the caveats in the documentation: https://pandas.pydata.org/pandas-docs/stable/user_guide/indexing.html#returning-a-view-versus-a-copy\n",
      "  df['label'][row] = 1\n"
     ]
    },
    {
     "data": {
      "text/html": [
       "<div>\n",
       "<style scoped>\n",
       "    .dataframe tbody tr th:only-of-type {\n",
       "        vertical-align: middle;\n",
       "    }\n",
       "\n",
       "    .dataframe tbody tr th {\n",
       "        vertical-align: top;\n",
       "    }\n",
       "\n",
       "    .dataframe thead th {\n",
       "        text-align: right;\n",
       "    }\n",
       "</style>\n",
       "<table border=\"1\" class=\"dataframe\">\n",
       "  <thead>\n",
       "    <tr style=\"text-align: right;\">\n",
       "      <th></th>\n",
       "      <th>count</th>\n",
       "    </tr>\n",
       "    <tr>\n",
       "      <th>label</th>\n",
       "      <th></th>\n",
       "    </tr>\n",
       "  </thead>\n",
       "  <tbody>\n",
       "    <tr>\n",
       "      <th>0</th>\n",
       "      <td>601.0</td>\n",
       "    </tr>\n",
       "    <tr>\n",
       "      <th>1</th>\n",
       "      <td>2028.0</td>\n",
       "    </tr>\n",
       "  </tbody>\n",
       "</table>\n",
       "</div>"
      ],
      "text/plain": [
       "        count\n",
       "label        \n",
       "0       601.0\n",
       "1      2028.0"
      ]
     },
     "execution_count": 13,
     "metadata": {},
     "output_type": "execute_result"
    }
   ],
   "source": [
    "import pandas as pd\n",
    "df = pd.read_csv('../data/filtered_attrs.csv')\n",
    "label = 'label'\n",
    "for row, l in enumerate(df['label']):\n",
    "    if l > 4:\n",
    "        df['label'][row] = 1\n",
    "    else:\n",
    "        df['label'][row] = 0\n",
    "df = df.merge(right=pd.read_csv('../data/bias_labels.csv'), on='url', how='inner')\n",
    "df.drop(columns=['url','source'], inplace=True)\n",
    "df.groupby(label).describe().loc[:,(slice(None),['count'])]['backlinks']"
   ]
  },
  {
   "cell_type": "markdown",
   "metadata": {},
   "source": [
    "#### 2.3: Frequency x dependent variable"
   ]
  },
  {
   "cell_type": "code",
   "execution_count": 9,
   "metadata": {},
   "outputs": [
    {
     "data": {
      "text/html": [
       "<div>\n",
       "<style scoped>\n",
       "    .dataframe tbody tr th:only-of-type {\n",
       "        vertical-align: middle;\n",
       "    }\n",
       "\n",
       "    .dataframe tbody tr th {\n",
       "        vertical-align: top;\n",
       "    }\n",
       "\n",
       "    .dataframe thead th {\n",
       "        text-align: right;\n",
       "    }\n",
       "</style>\n",
       "<table border=\"1\" class=\"dataframe\">\n",
       "  <thead>\n",
       "    <tr style=\"text-align: right;\">\n",
       "      <th></th>\n",
       "      <th></th>\n",
       "      <th>count</th>\n",
       "    </tr>\n",
       "    <tr>\n",
       "      <th>bias</th>\n",
       "      <th>label</th>\n",
       "      <th></th>\n",
       "    </tr>\n",
       "  </thead>\n",
       "  <tbody>\n",
       "    <tr>\n",
       "      <th rowspan=\"2\" valign=\"top\">-2</th>\n",
       "      <th>0</th>\n",
       "      <td>116.0</td>\n",
       "    </tr>\n",
       "    <tr>\n",
       "      <th>1</th>\n",
       "      <td>189.0</td>\n",
       "    </tr>\n",
       "    <tr>\n",
       "      <th rowspan=\"2\" valign=\"top\">-1</th>\n",
       "      <th>0</th>\n",
       "      <td>60.0</td>\n",
       "    </tr>\n",
       "    <tr>\n",
       "      <th>1</th>\n",
       "      <td>648.0</td>\n",
       "    </tr>\n",
       "    <tr>\n",
       "      <th rowspan=\"2\" valign=\"top\">0</th>\n",
       "      <th>0</th>\n",
       "      <td>17.0</td>\n",
       "    </tr>\n",
       "    <tr>\n",
       "      <th>1</th>\n",
       "      <td>794.0</td>\n",
       "    </tr>\n",
       "    <tr>\n",
       "      <th rowspan=\"2\" valign=\"top\">1</th>\n",
       "      <th>0</th>\n",
       "      <td>60.0</td>\n",
       "    </tr>\n",
       "    <tr>\n",
       "      <th>1</th>\n",
       "      <td>347.0</td>\n",
       "    </tr>\n",
       "    <tr>\n",
       "      <th rowspan=\"2\" valign=\"top\">2</th>\n",
       "      <th>0</th>\n",
       "      <td>348.0</td>\n",
       "    </tr>\n",
       "    <tr>\n",
       "      <th>1</th>\n",
       "      <td>50.0</td>\n",
       "    </tr>\n",
       "  </tbody>\n",
       "</table>\n",
       "</div>"
      ],
      "text/plain": [
       "            count\n",
       "bias label       \n",
       "-2   0      116.0\n",
       "     1      189.0\n",
       "-1   0       60.0\n",
       "     1      648.0\n",
       " 0   0       17.0\n",
       "     1      794.0\n",
       " 1   0       60.0\n",
       "     1      347.0\n",
       " 2   0      348.0\n",
       "     1       50.0"
      ]
     },
     "execution_count": 9,
     "metadata": {},
     "output_type": "execute_result"
    }
   ],
   "source": [
    "df.groupby(['bias', label]).describe().loc[:,(slice(None),['count'])]['backlinks']"
   ]
  },
  {
   "cell_type": "markdown",
   "metadata": {},
   "source": [
    "#### 2.4: Histograms"
   ]
  },
  {
   "cell_type": "code",
   "execution_count": 10,
   "metadata": {},
   "outputs": [
    {
     "data": {
      "image/png": "[encoded data removed]",
      "text/plain": [
       "<Figure size 432x288 with 1 Axes>"
      ]
     },
     "metadata": {
      "needs_background": "light"
     },
     "output_type": "display_data"
    }
   ],
   "source": [
    "from collections import Counter\n",
    "import numpy as np\n",
    "import matplotlib.pyplot as plt\n",
    "\n",
    "protected_attr = 'bias'\n",
    "\n",
    "protected_freq = Counter(df[protected_attr])\n",
    "counters = {}\n",
    "for ind in protected_freq.keys():\n",
    "    counters[ind] = Counter(df.loc[df[protected_attr] == ind][label])\n",
    "\n",
    "ind = np.arange(len(counters.keys()))\n",
    "\n",
    "\n",
    "dependent_vals = counters[list(protected_freq.keys())[0]].keys()\n",
    "for width, val in enumerate(dependent_vals):\n",
    "    vals = [counters[x][val] for x in counters.keys()]\n",
    "    plt.bar(ind + width * 0.2, vals, 0.2, label=val)\n",
    "\n",
    "plt.xlabel(protected_attr)\n",
    "plt.ylabel(label)\n",
    "plt.title(protected_attr + ' x ' + label)\n",
    "\n",
    "# ticks = ind if i_key == 'age' else counters.keys()\n",
    "plt.xticks(ind, counters.keys(), rotation=45)\n",
    "plt.legend(dependent_vals)\n",
    "\n",
    "plt.show()"
   ]
  },
  {
   "cell_type": "code",
   "execution_count": 14,
   "metadata": {},
   "outputs": [],
   "source": [
    "from sklearn.preprocessing import LabelEncoder\n",
    "encoders = {}\n",
    "df_encoded = df.copy()\n",
    "for col in df.columns:\n",
    "    if df[col].dtype == 'O':\n",
    "        le = LabelEncoder()\n",
    "        transformed_col = le.fit_transform(df[col])\n",
    "        encoders[col] = le\n",
    "        df_encoded[col] = transformed_col\n"
   ]
  },
  {
   "cell_type": "code",
   "execution_count": 15,
   "metadata": {},
   "outputs": [
    {
     "name": "stdout",
     "output_type": "stream",
     "text": [
      "Disparate impact for the original dataset = 0.2027\n",
      "Statistical parity difference for the original dataset = -0.4940\n"
     ]
    }
   ],
   "source": [
    "from aif360.sklearn import metrics\n",
    "from aif360.datasets import BinaryLabelDataset\n",
    "from aif360.metrics import ClassificationMetric, BinaryLabelDatasetMetric\n",
    "\n",
    "chosen_attribute = 'bias'\n",
    "\n",
    "binaryLabelDataset = BinaryLabelDataset(\n",
    "    favorable_label=1,\n",
    "    unfavorable_label=0,\n",
    "    df=df,\n",
    "    label_names=[label],\n",
    "    protected_attribute_names=[chosen_attribute])\n",
    "\n",
    "\n",
    "privileged_groups = [{'bias':-2}]\n",
    "unprivileged_groups = [{'bias': 2}]\n",
    "\n",
    "metric_orig = BinaryLabelDatasetMetric(binaryLabelDataset, \n",
    "                                             unprivileged_groups=unprivileged_groups,\n",
    "                                             privileged_groups=privileged_groups)\n",
    "print(f\"Disparate impact for the original dataset = {metric_orig.disparate_impact():.4f}\")\n",
    "print(f\"Statistical parity difference for the original dataset = {metric_orig.statistical_parity_difference():.4f}\")"
   ]
  },
  {
   "cell_type": "markdown",
   "metadata": {},
   "source": [
    "### Compare classifier trained on original & preprocessed datasets"
   ]
  },
  {
   "cell_type": "code",
   "execution_count": 16,
   "metadata": {},
   "outputs": [],
   "source": [
    "from aif360.metrics import BinaryLabelDatasetMetric\n",
    "from aif360.algorithms.preprocessing import Reweighing, DisparateImpactRemover\n",
    "\n",
    "binaryLabelDataset = BinaryLabelDataset(\n",
    "    favorable_label=1,\n",
    "    unfavorable_label=0,\n",
    "    df=df,\n",
    "    label_names=[label],\n",
    "    protected_attribute_names=[chosen_attribute])\n",
    "\n",
    "# di = DisparateImpactRemover(0.75, 'bias')\n",
    "di = Reweighing(unprivileged_groups, privileged_groups)#, attribute)\n",
    "transformed_dataset = di.fit_transform(binaryLabelDataset)\n",
    "orig_train, orig_test = binaryLabelDataset.split([0.7], shuffle=True)\n",
    "trans_train, trans_test = transformed_dataset.split([0.7], shuffle=True)\n",
    "\n",
    "original_dataset_metric = BinaryLabelDatasetMetric(binaryLabelDataset, \n",
    "    unprivileged_groups=unprivileged_groups,\n",
    "    privileged_groups=privileged_groups)\n",
    "\n",
    "transformed_dataset_metric = BinaryLabelDatasetMetric(transformed_dataset, \n",
    "    unprivileged_groups=unprivileged_groups,\n",
    "    privileged_groups=privileged_groups)\n"
   ]
  },
  {
   "cell_type": "code",
   "execution_count": 17,
   "metadata": {},
   "outputs": [],
   "source": [
    "orig_X_train = orig_train.features\n",
    "orig_y_train = orig_train.labels.ravel()\n",
    "orig_X_test = orig_test.features\n",
    "orig_y_test = orig_test.labels.ravel()\n",
    "\n",
    "trans_X_train = trans_train.features\n",
    "trans_y_train = trans_train.labels.ravel()\n",
    "trans_X_test = trans_test.features\n",
    "trans_y_test = trans_test.labels.ravel()"
   ]
  },
  {
   "cell_type": "code",
   "execution_count": 18,
   "metadata": {},
   "outputs": [
    {
     "data": {
      "text/plain": [
       "array([125,  62,  27, 575])"
      ]
     },
     "execution_count": 18,
     "metadata": {},
     "output_type": "execute_result"
    }
   ],
   "source": [
    "from sklearn.ensemble import RandomForestRegressor\n",
    "from sklearn.metrics import confusion_matrix\n",
    "\n",
    "clf = RandomForestRegressor(n_estimators=50, random_state=0)\n",
    "orig_clf = clf.fit(orig_X_train, orig_y_train)\n",
    "\n",
    "scores = orig_clf.predict(orig_X_test)\n",
    "predictions = scores > 0.5\n",
    "errors = np.abs(orig_y_test - predictions)\n",
    "acc_original = 1-np.mean(errors)\n",
    "confusion_matrix(orig_y_test, predictions).ravel() # tn, fp, fn, tp "
   ]
  },
  {
   "cell_type": "code",
   "execution_count": 19,
   "metadata": {},
   "outputs": [
    {
     "data": {
      "text/plain": [
       "array([ 32, 155, 122, 480])"
      ]
     },
     "execution_count": 19,
     "metadata": {},
     "output_type": "execute_result"
    }
   ],
   "source": [
    "trans_clf = clf.fit(trans_X_train, trans_y_train)\n",
    "\n",
    "trans_scores = trans_clf.predict(trans_X_test)\n",
    "trans_predictions = trans_scores > 0.5\n",
    "trans_errors = np.abs(trans_y_test - trans_predictions)\n",
    "acc_transformed = 1-np.mean(trans_errors)\n",
    "confusion_matrix(orig_y_test, trans_predictions).ravel() # tn, fp, fn, tp "
   ]
  },
  {
   "cell_type": "code",
   "execution_count": 20,
   "metadata": {},
   "outputs": [
    {
     "name": "stdout",
     "output_type": "stream",
     "text": [
      "0.8117993497610461\n",
      "0.4842325936717181\n",
      "0.8871989860583016\n",
      "0.6489226869455006\n"
     ]
    }
   ],
   "source": [
    "from sklearn.metrics import roc_auc_score, accuracy_score\n",
    "print(roc_auc_score(orig_y_test, predictions))\n",
    "print(roc_auc_score(orig_y_test, trans_predictions))\n",
    "print(accuracy_score(orig_y_test, predictions))\n",
    "print(accuracy_score(orig_y_test, trans_predictions))"
   ]
  },
  {
   "cell_type": "code",
   "execution_count": 22,
   "metadata": {},
   "outputs": [
    {
     "name": "stdout",
     "output_type": "stream",
     "text": [
      "Experiment                     DI              DI change       SPD             SPD change     \n",
      "--------------------------------------------------------------------------------\n",
      "Original data                  0.2027          Baseline        -0.4940         Baseline       \n",
      "Transformed data               1.0000          Positive        1.0000          Positive       \n",
      "Classifier on original data    0.1952          No change       -0.4812         No change      \n",
      "Classifier on transformed data 0.8901          Positive        -0.0843         Positive       \n"
     ]
    }
   ],
   "source": [
    "orig_test.scores = scores\n",
    "trans_test.scores = trans_scores\n",
    "\n",
    "test_metric_orig = BinaryLabelDatasetMetric(orig_test, \n",
    "    unprivileged_groups=unprivileged_groups,\n",
    "    privileged_groups=privileged_groups)\n",
    "\n",
    "test_metric_transformed = BinaryLabelDatasetMetric(trans_test, \n",
    "    unprivileged_groups=unprivileged_groups,\n",
    "    privileged_groups=privileged_groups)\n",
    "\n",
    "print(\"{:<30} {:<15} {:<15} {:<15} {:<15}\".format('Experiment', 'DI', 'DI change', 'SPD', 'SPD change'))\n",
    "print('-'*80)\n",
    "print(\"{:<30} {:<15} {:<15} {:<15} {:<15}\".format('Original data', f\"{original_dataset_metric.disparate_impact():.4f}\", 'Baseline', f\"{original_dataset_metric.statistical_parity_difference():.4f}\", 'Baseline'))\n",
    "print(\"{:<30} {:<15} {:<15} {:<15} {:<15}\".format('Transformed data', f\"{transformed_dataset_metric.disparate_impact():.4f}\", 'Positive',  f\"{transformed_dataset_metric.disparate_impact():.4f}\", 'Positive'))\n",
    "print(\"{:<30} {:<15} {:<15} {:<15} {:<15}\".format('Classifier on original data', f\"{test_metric_orig.disparate_impact():.4f}\", 'No change', f\"{test_metric_orig.statistical_parity_difference():.4f}\", 'No change'))\n",
    "print(\"{:<30} {:<15} {:<15} {:<15} {:<15}\".format('Classifier on transformed data', f\"{test_metric_transformed.disparate_impact():.4f}\", 'Positive', f\"{test_metric_transformed.statistical_parity_difference():.4f}\", 'Positive'))\n"
   ]
  }
 ],
 "metadata": {
  "kernelspec": {
   "display_name": "Python 3.8.10 64-bit",
   "language": "python",
   "name": "python3"
  },
  "language_info": {
   "codemirror_mode": {
    "name": "ipython",
    "version": 3
   },
   "file_extension": ".py",
   "mimetype": "text/x-python",
   "name": "python",
   "nbconvert_exporter": "python",
   "pygments_lexer": "ipython3",
   "version": "3.8.10"
  },
  "orig_nbformat": 4,
  "vscode": {
   "interpreter": {
    "hash": "31f2aee4e71d21fbe5cf8b01ff0e069b9275f58929596ceb00d14d90e3e16cd6"
   }
  }
 },
 "nbformat": 4,
 "nbformat_minor": 2
}
