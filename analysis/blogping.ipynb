{
 "cells": [
  {
   "cell_type": "code",
   "execution_count": 12,
   "metadata": {},
   "outputs": [],
   "source": [
    "import networkx as nx\n",
    "import pandas as pd\n",
    "from functools import reduce\n",
    "import numpy as np\n",
    "from enum import Enum\n",
    "\n",
    "edge_df = pd.read_csv('../data/filtered_backlinks.csv')\n",
    "edge_df = edge_df.groupby(['domain_from', 'domain_to'])\n",
    "edge_df = edge_df.max()\n",
    "edge_df.reset_index(inplace=True)\n",
    "edge_df['log_links'] = np.log(edge_df['links'])\n",
    "\n",
    "node_mapping = {k: v for v, k in enumerate(set(list(edge_df.domain_from.unique()) + list(edge_df.domain_to.unique())))}\n",
    "\n",
    "edge_df['domain_from_idx'] = edge_df.domain_from.map(node_mapping)\n",
    "edge_df['domain_to_idx'] = edge_df.domain_to.map(node_mapping)\n",
    "\n",
    "G = nx.from_pandas_edgelist(edge_df, source='domain_from_idx', target='domain_to_idx', edge_attr=['links', 'unique_pages'], create_using=nx.DiGraph())\n",
    "schemes = pd.read_csv('schemes.csv')['url'].to_list()\n",
    "media_df = pd.read_csv('../data/filtered_attrs.csv')"
   ]
  },
  {
   "cell_type": "code",
   "execution_count": 13,
   "metadata": {},
   "outputs": [
    {
     "name": "stdout",
     "output_type": "stream",
     "text": [
      "stillnessinthestorm.com\n",
      "freerepublic.com\n",
      "democraticunderground.com\n",
      "attitude.co.uk\n",
      "thepoliticalinsider.com\n",
      "truthuncensored.net\n",
      "independentminute.com\n",
      "nation.com.pk\n"
     ]
    }
   ],
   "source": [
    "from sklearn import neighbors\n",
    "\n",
    "centralities = False\n",
    "if centralities:\n",
    "    def alpha(n):\n",
    "        return 1/np.max([np.real(x) for x in nx.adjacency_spectrum(n, weight='log_links')])\n",
    "    print('PG')\n",
    "    pagerank_centrality = nx.pagerank(G, weight='log_links')\n",
    "    # print('KT')\n",
    "    # katz_centrality = nx.katz_centrality(G, weight='log_links', alpha=alpha(G))\n",
    "    print('CL')\n",
    "    closeness_centrality = nx.closeness_centrality(G, distance=1, wf_improved=False)\n",
    "    print('HM')\n",
    "    harmonic_centrality = nx.harmonic_centrality(G, distance=1)\n",
    "    print('BT')\n",
    "    betweeness_centrality = nx.betweenness_centrality(G, weight='log_links')\n",
    "    print('DG')\n",
    "    degree_centrality = nx.degree_centrality(G)#,  weight='log_links')\n",
    "    degree_centrality = nx.degree_centrality(G)#,  weight='log_links')\n",
    "\n",
    "def isBlogping(url):\n",
    "    blogs = ['blogspot', 'e-monsite', 'wordpress', 'blogger']\n",
    "    return any([blog in url for blog in blogs])\n",
    "\n",
    "target_urls = list(edge_df.domain_to.unique())\n",
    "blogping_data = []\n",
    "inv_node_mapping = {v: k for k, v in node_mapping.items()}\n",
    "\n",
    "link_scheme_pp = {1:0, 3:0, 4:0, 5:0, 6:0}\n",
    "normal_backlinker_pp = {1:0, 3:0, 4:0, 5:0, 6:0}\n",
    "\n",
    "backlink_dists = {}\n",
    "\n",
    "for news_url in target_urls:\n",
    "    current_node = node_mapping[news_url]\n",
    "    preds = G.predecessors(current_node)\n",
    "    count = 0\n",
    "    bl_total = 0\n",
    "    page_total = 0\n",
    "    try:\n",
    "        label = media_df[media_df['url'] == news_url]['label'].values[0]\n",
    "    except:\n",
    "        print(news_url)\n",
    "        \n",
    "    for neighbor in list(preds):\n",
    "        neighbor_url = inv_node_mapping[neighbor]\n",
    "        edge_data = G.get_edge_data(neighbor, current_node)\n",
    "        if isBlogping(neighbor_url):\n",
    "            count += 1\n",
    "            bl_total += edge_data['links']\n",
    "            page_total += edge_data['unique_pages']\n",
    "        try:\n",
    "            num_outlinks = 0\n",
    "            if not neighbor_url in backlink_dists:\n",
    "                total_links_observed = 0\n",
    "                for successor in G.successors(neighbor):\n",
    "                    total_links_observed += G.get_edge_data(neighbor, successor)['links']\n",
    "                    num_outlinks += 1\n",
    "\n",
    "                backlink_dists[neighbor_url] = {1:0, 3:0, 4:0, 5:0, 6:0, 7:total_links_observed}\n",
    "            \n",
    "            total_links_observed = backlink_dists[neighbor_url][7]\n",
    "            backlink_dists[neighbor_url][label] += edge_data['links']/total_links_observed\n",
    "\n",
    "            if total_links_observed > 50000 and num_outlinks > 3:\n",
    "                if neighbor_url in schemes:\n",
    "                    link_scheme_pp[label] += edge_data['links']\n",
    "                elif not isBlogping(neighbor_url):\n",
    "                    normal_backlinker_pp[label] += edge_data['links']\n",
    "        except Exception as e:\n",
    "            print(neighbor_url, e)\n",
    "\n",
    "    if centralities:\n",
    "        blogping_data.append({\n",
    "            'url': news_url,\n",
    "            'blogspot_backlinks': bl_total,\n",
    "            'blogspot_refpages': page_total,\n",
    "            'blogspot_count': count,\n",
    "            'pagerank_centrality': pagerank_centrality[current_node],\n",
    "            # 'katz_centrality': katz_centrality[current_node],\n",
    "            'closeness_centrality': closeness_centrality[current_node],\n",
    "            'harmonic_centrality': harmonic_centrality[current_node],\n",
    "            'betweeness_centrality': betweeness_centrality[current_node],\n",
    "            'degree_centrality': degree_centrality[current_node],\n",
    "        })\n",
    "    else:\n",
    "        blogping_data.append({\n",
    "            'url': news_url,\n",
    "            'blogspot_backlinks': bl_total,\n",
    "            'blogspot_refpages': page_total,\n",
    "            'blogspot_count': count,\n",
    "        })\n",
    "\n",
    "blogping_df = pd.DataFrame(blogping_data)"
   ]
  },
  {
   "cell_type": "code",
   "execution_count": 14,
   "metadata": {},
   "outputs": [],
   "source": [
    "normal_backlinker_pp[3] = normal_backlinker_pp[3] + normal_backlinker_pp[1]\n",
    "link_scheme_pp[3] = link_scheme_pp[3] + link_scheme_pp[1]\n",
    "normal_backlinker_pp[5] = normal_backlinker_pp[5] + normal_backlinker_pp[6]\n",
    "link_scheme_pp[5] = link_scheme_pp[5] + link_scheme_pp[6]\n",
    "del normal_backlinker_pp[6]\n",
    "del normal_backlinker_pp[1]\n",
    "del link_scheme_pp[1]\n",
    "del link_scheme_pp[6]\n"
   ]
  },
  {
   "cell_type": "code",
   "execution_count": 28,
   "metadata": {},
   "outputs": [
    {
     "data": {
      "image/png": "[encoded data removed]",
      "text/plain": [
       "<Figure size 432x288 with 1 Axes>"
      ]
     },
     "metadata": {
      "needs_background": "light"
     },
     "output_type": "display_data"
    }
   ],
   "source": [
    "import seaborn as sns\n",
    "import matplotlib.pyplot as plt\n",
    "import numpy as np\n",
    "\n",
    "\n",
    "total_ls = sum(link_scheme_pp.values())\n",
    "total_nb = sum(normal_backlinker_pp.values())\n",
    "ls_proportions = [count / total_ls for count in link_scheme_pp.values()]\n",
    "nb_proportions = [count / total_nb for count in normal_backlinker_pp.values()]\n",
    "data = {\n",
    "    'Reliability': ['unreliable', 'mixed', 'reliable'],\n",
    "    'Link Schemes': ls_proportions,\n",
    "    'Backlinkers': nb_proportions\n",
    "}\n",
    "df = pd.DataFrame(data)\n",
    "df_melted = df.melt(id_vars='Reliability', var_name='Type', value_name='Frequency')\n",
    "\n",
    "sns.barplot(data=df_melted, x='Reliability', y='Frequency', hue='Type', palette=['tomato', '#C3B1E1'], linewidth=1, edgecolor='black')\n",
    "sns.barplot(data=df_melted, x='Reliability', y='Frequency', hue='Type', palette=['tomato', '#C3B1E1'], linewidth=1, edgecolor='black')\n",
    "plt.xlabel('Reliability')\n",
    "plt.ylabel('Backlink Frequency')\n",
    "plt.title('Distribution of target domain reliability for backlinking sites')\n",
    "plt.legend(title=None)\n",
    "plt.tight_layout()\n",
    "plt.savefig('../results/fig/link_scheme_distribution.png', dpi=300, bbox_inches='tight')\n",
    "plt.show()"
   ]
  },
  {
   "cell_type": "code",
   "execution_count": 16,
   "metadata": {},
   "outputs": [],
   "source": [
    "labelled_blogping = pd.merge(blogping_df, media_df, how='inner', on='url')\n",
    "labelled_blogping['blogspot_link_ratio'] = labelled_blogping['blogspot_backlinks']/labelled_blogping['backlinks']\n",
    "labelled_blogping['blogspot_page_ratio'] = labelled_blogping['blogspot_refpages']/labelled_blogping['refpages']"
   ]
  },
  {
   "cell_type": "code",
   "execution_count": 17,
   "metadata": {},
   "outputs": [
    {
     "name": "stderr",
     "output_type": "stream",
     "text": [
      "/home/peter/dev/envs/env_seo/lib/python3.8/site-packages/pandas/core/arraylike.py:397: RuntimeWarning: divide by zero encountered in log10\n",
      "  result = getattr(ufunc, method)(*inputs, **kwargs)\n"
     ]
    },
    {
     "data": {
      "image/png": "[encoded data removed]",
      "text/plain": [
       "<Figure size 432x288 with 1 Axes>"
      ]
     },
     "metadata": {
      "needs_background": "light"
     },
     "output_type": "display_data"
    }
   ],
   "source": [
    "labelled_blogping['log_blogspot_link_ratio'] = np.log10(labelled_blogping['blogspot_count'])\n",
    "\n",
    "from matplotlib import pyplot as plt\n",
    "fig, ax = plt.subplots()\n",
    "\n",
    "labelled_blogping.boxplot(column='blogspot_link_ratio', by='label', ax=ax, showfliers=False)\n",
    "fig.suptitle('')\n",
    "ax.set_title('Boxplot of reliability labels vs blogping')\n",
    "ax.set_xlabel('Reliability')\n",
    "ax.set_ylabel('% Blogspot backlinks')\n",
    "ax.set_xticklabels(['v. low', 'low', 'mixed', 'high', 'v. high'])\n",
    "plt.savefig('../results/fig/blogping.png', dpi=300, bbox_inches='tight')"
   ]
  },
  {
   "cell_type": "code",
   "execution_count": 18,
   "metadata": {},
   "outputs": [
    {
     "data": {
      "text/plain": [
       "[Text(1, 0, 'v. low'),\n",
       " Text(2, 0, 'low'),\n",
       " Text(3, 0, 'mixed'),\n",
       " Text(4, 0, 'high'),\n",
       " Text(5, 0, 'v. high')]"
      ]
     },
     "execution_count": 18,
     "metadata": {},
     "output_type": "execute_result"
    },
    {
     "data": {
      "image/png": "[encoded data removed]",
      "text/plain": [
       "<Figure size 432x288 with 1 Axes>"
      ]
     },
     "metadata": {
      "needs_background": "light"
     },
     "output_type": "display_data"
    }
   ],
   "source": [
    "fig, ax = plt.subplots()\n",
    "labelled_blogping['proportion_ugc'] = labelled_blogping['ugc']/labelled_blogping['backlinks']\n",
    "\n",
    "labelled_blogping.boxplot(column='proportion_ugc', by='label', ax=ax, showfliers=False)\n",
    "fig.suptitle('')\n",
    "ax.set_title('Boxplot of reliability labels vs UGC backlink %')\n",
    "ax.set_xlabel('Reliability')\n",
    "ax.set_ylabel('% of backlinks from UGC')\n",
    "ax.set_xticklabels(['v. low', 'low', 'mixed', 'high', 'v. high'])"
   ]
  },
  {
   "cell_type": "code",
   "execution_count": 19,
   "metadata": {},
   "outputs": [
    {
     "data": {
      "image/png": "[encoded data removed]",
      "text/plain": [
       "<Figure size 432x288 with 1 Axes>"
      ]
     },
     "metadata": {
      "needs_background": "light"
     },
     "output_type": "display_data"
    }
   ],
   "source": [
    "fig, ax = plt.subplots()\n",
    "labelled_blogping['proportion_edu'] = labelled_blogping['edu']/labelled_blogping['backlinks']\n",
    "\n",
    "labelled_blogping.boxplot(column='proportion_edu', by='label', ax=ax, showfliers=False)\n",
    "fig.suptitle('')\n",
    "ax.set_title('Boxplot of reliability labels vs .edu backlink %')\n",
    "ax.set_xlabel('Reliability')\n",
    "ax.set_ylabel('% of backlinks from .edu domains')\n",
    "ax.set_xticklabels(['v. low', 'low', 'mixed', 'high', 'v. high'])\n",
    "plt.savefig('../results/fig/edu.png', dpi=300, bbox_inches='tight')"
   ]
  },
  {
   "cell_type": "code",
   "execution_count": 20,
   "metadata": {},
   "outputs": [
    {
     "name": "stderr",
     "output_type": "stream",
     "text": [
      "/home/peter/dev/envs/env_seo/lib/python3.8/site-packages/numpy/lib/function_base.py:4527: RuntimeWarning: invalid value encountered in subtract\n",
      "  diff_b_a = subtract(b, a)\n",
      "/home/peter/dev/envs/env_seo/lib/python3.8/site-packages/numpy/lib/function_base.py:4527: RuntimeWarning: invalid value encountered in subtract\n",
      "  diff_b_a = subtract(b, a)\n"
     ]
    },
    {
     "data": {
      "text/html": [
       "<div>\n",
       "<style scoped>\n",
       "    .dataframe tbody tr th:only-of-type {\n",
       "        vertical-align: middle;\n",
       "    }\n",
       "\n",
       "    .dataframe tbody tr th {\n",
       "        vertical-align: top;\n",
       "    }\n",
       "\n",
       "    .dataframe thead th {\n",
       "        text-align: right;\n",
       "    }\n",
       "</style>\n",
       "<table border=\"1\" class=\"dataframe\">\n",
       "  <thead>\n",
       "    <tr style=\"text-align: right;\">\n",
       "      <th></th>\n",
       "      <th>count</th>\n",
       "      <th>mean</th>\n",
       "      <th>std</th>\n",
       "      <th>min</th>\n",
       "      <th>25%</th>\n",
       "      <th>50%</th>\n",
       "      <th>75%</th>\n",
       "      <th>max</th>\n",
       "    </tr>\n",
       "    <tr>\n",
       "      <th>label</th>\n",
       "      <th></th>\n",
       "      <th></th>\n",
       "      <th></th>\n",
       "      <th></th>\n",
       "      <th></th>\n",
       "      <th></th>\n",
       "      <th></th>\n",
       "      <th></th>\n",
       "    </tr>\n",
       "  </thead>\n",
       "  <tbody>\n",
       "    <tr>\n",
       "      <th>1</th>\n",
       "      <td>166.0</td>\n",
       "      <td>2.493976</td>\n",
       "      <td>2.463668</td>\n",
       "      <td>0.0</td>\n",
       "      <td>0.0</td>\n",
       "      <td>2.0</td>\n",
       "      <td>4.00</td>\n",
       "      <td>10.0</td>\n",
       "    </tr>\n",
       "    <tr>\n",
       "      <th>3</th>\n",
       "      <td>481.0</td>\n",
       "      <td>3.457380</td>\n",
       "      <td>2.439850</td>\n",
       "      <td>0.0</td>\n",
       "      <td>1.0</td>\n",
       "      <td>3.0</td>\n",
       "      <td>5.00</td>\n",
       "      <td>10.0</td>\n",
       "    </tr>\n",
       "    <tr>\n",
       "      <th>4</th>\n",
       "      <td>524.0</td>\n",
       "      <td>3.089695</td>\n",
       "      <td>2.595328</td>\n",
       "      <td>0.0</td>\n",
       "      <td>1.0</td>\n",
       "      <td>3.0</td>\n",
       "      <td>5.00</td>\n",
       "      <td>10.0</td>\n",
       "    </tr>\n",
       "    <tr>\n",
       "      <th>5</th>\n",
       "      <td>2014.0</td>\n",
       "      <td>2.303376</td>\n",
       "      <td>2.248324</td>\n",
       "      <td>0.0</td>\n",
       "      <td>0.0</td>\n",
       "      <td>2.0</td>\n",
       "      <td>4.00</td>\n",
       "      <td>10.0</td>\n",
       "    </tr>\n",
       "    <tr>\n",
       "      <th>6</th>\n",
       "      <td>18.0</td>\n",
       "      <td>2.388889</td>\n",
       "      <td>1.914001</td>\n",
       "      <td>0.0</td>\n",
       "      <td>1.0</td>\n",
       "      <td>2.0</td>\n",
       "      <td>3.75</td>\n",
       "      <td>7.0</td>\n",
       "    </tr>\n",
       "  </tbody>\n",
       "</table>\n",
       "</div>"
      ],
      "text/plain": [
       "        count      mean       std  min  25%  50%   75%   max\n",
       "label                                                       \n",
       "1       166.0  2.493976  2.463668  0.0  0.0  2.0  4.00  10.0\n",
       "3       481.0  3.457380  2.439850  0.0  1.0  3.0  5.00  10.0\n",
       "4       524.0  3.089695  2.595328  0.0  1.0  3.0  5.00  10.0\n",
       "5      2014.0  2.303376  2.248324  0.0  0.0  2.0  4.00  10.0\n",
       "6        18.0  2.388889  1.914001  0.0  1.0  2.0  3.75   7.0"
      ]
     },
     "execution_count": 20,
     "metadata": {},
     "output_type": "execute_result"
    }
   ],
   "source": [
    "labelled_blogping.groupby('label').describe()['blogspot_count']"
   ]
  },
  {
   "cell_type": "code",
   "execution_count": 21,
   "metadata": {},
   "outputs": [
    {
     "data": {
      "text/html": [
       "<div>\n",
       "<style scoped>\n",
       "    .dataframe tbody tr th:only-of-type {\n",
       "        vertical-align: middle;\n",
       "    }\n",
       "\n",
       "    .dataframe tbody tr th {\n",
       "        vertical-align: top;\n",
       "    }\n",
       "\n",
       "    .dataframe thead tr th {\n",
       "        text-align: left;\n",
       "    }\n",
       "\n",
       "    .dataframe thead tr:last-of-type th {\n",
       "        text-align: right;\n",
       "    }\n",
       "</style>\n",
       "<table border=\"1\" class=\"dataframe\">\n",
       "  <thead>\n",
       "    <tr>\n",
       "      <th></th>\n",
       "      <th colspan=\"8\" halign=\"left\">bias</th>\n",
       "    </tr>\n",
       "    <tr>\n",
       "      <th></th>\n",
       "      <th>count</th>\n",
       "      <th>mean</th>\n",
       "      <th>std</th>\n",
       "      <th>min</th>\n",
       "      <th>25%</th>\n",
       "      <th>50%</th>\n",
       "      <th>75%</th>\n",
       "      <th>max</th>\n",
       "    </tr>\n",
       "    <tr>\n",
       "      <th>rel_bias</th>\n",
       "      <th></th>\n",
       "      <th></th>\n",
       "      <th></th>\n",
       "      <th></th>\n",
       "      <th></th>\n",
       "      <th></th>\n",
       "      <th></th>\n",
       "      <th></th>\n",
       "    </tr>\n",
       "  </thead>\n",
       "  <tbody>\n",
       "    <tr>\n",
       "      <th>0</th>\n",
       "      <td>1013.0</td>\n",
       "      <td>-1.301086</td>\n",
       "      <td>0.458957</td>\n",
       "      <td>-2.0</td>\n",
       "      <td>-2.0</td>\n",
       "      <td>-1.0</td>\n",
       "      <td>-1.0</td>\n",
       "      <td>-1.0</td>\n",
       "    </tr>\n",
       "    <tr>\n",
       "      <th>1</th>\n",
       "      <td>805.0</td>\n",
       "      <td>1.494410</td>\n",
       "      <td>0.500280</td>\n",
       "      <td>1.0</td>\n",
       "      <td>1.0</td>\n",
       "      <td>1.0</td>\n",
       "      <td>2.0</td>\n",
       "      <td>2.0</td>\n",
       "    </tr>\n",
       "  </tbody>\n",
       "</table>\n",
       "</div>"
      ],
      "text/plain": [
       "            bias                                             \n",
       "           count      mean       std  min  25%  50%  75%  max\n",
       "rel_bias                                                     \n",
       "0         1013.0 -1.301086  0.458957 -2.0 -2.0 -1.0 -1.0 -1.0\n",
       "1          805.0  1.494410  0.500280  1.0  1.0  1.0  2.0  2.0"
      ]
     },
     "execution_count": 21,
     "metadata": {},
     "output_type": "execute_result"
    }
   ],
   "source": [
    "bias_df = pd.read_csv ('../data/bias_labels.csv')\n",
    "bias_df.rename(columns={'domain':'url', 'label':'bias'}, inplace=True)\n",
    "bias_df['url'].str.strip()\n",
    "\n",
    "label_schemes = {\n",
    "    'reliability': {6:1,5:1,4:0,3:0,2:0,1:0}, # reliability labels\n",
    "    'abs_bias': {-2:1,-1:0,0:0,1:0,2:1}, # absolute bias: extreme vs centrist\n",
    "    'rel_bias': {-2:0,-1:0,0:-1,1:1,2:1}, # relative bias: left vs right\n",
    "} \n",
    "\n",
    "rel_bias_df = bias_df.copy()\n",
    "rel_bias_df['rel_bias'] = rel_bias_df.bias.astype(int).replace(label_schemes['rel_bias'])\n",
    "bias_df['abs_bias'] = bias_df.bias.astype(int).replace(label_schemes['abs_bias'])\n",
    "rel_bias_df = rel_bias_df[rel_bias_df.rel_bias != -1]\n",
    "rel_bias_df.groupby('rel_bias').describe()"
   ]
  },
  {
   "cell_type": "code",
   "execution_count": 25,
   "metadata": {},
   "outputs": [
    {
     "data": {
      "text/plain": [
       "blogspot_backlinks        -0.010903\n",
       "blogspot_refpages         -0.031341\n",
       "blogspot_count            -0.171795\n",
       "label                      0.826349\n",
       "backlinks                 -0.024556\n",
       "refpages                  -0.024308\n",
       "pages                      0.092144\n",
       "valid_pages                0.092283\n",
       "text                      -0.023870\n",
       "image                     -0.022757\n",
       "nofollow                  -0.023786\n",
       "ugc                       -0.028859\n",
       "sponsored                 -0.017580\n",
       "dofollow                  -0.023878\n",
       "redirect                  -0.019876\n",
       "canonical                  0.075925\n",
       "gov                       -0.026904\n",
       "edu                       -0.026576\n",
       "rss                        0.011151\n",
       "alternate                 -0.026277\n",
       "html_pages                 0.059891\n",
       "links_internal             0.038681\n",
       "links_external             0.038192\n",
       "refdomains                -0.019231\n",
       "refclass_c                 0.070150\n",
       "refips                     0.002189\n",
       "linked_root_domains        0.092598\n",
       "blogspot_link_ratio       -0.259473\n",
       "blogspot_page_ratio       -0.263281\n",
       "log_blogspot_link_ratio   -0.190463\n",
       "proportion_ugc            -0.087899\n",
       "proportion_edu             0.083318\n",
       "bias                      -0.002953\n",
       "reliability                1.000000\n",
       "Name: reliability, dtype: float64"
      ]
     },
     "execution_count": 25,
     "metadata": {},
     "output_type": "execute_result"
    }
   ],
   "source": [
    "labelled_blogping_reliability = labelled_blogping.copy()\n",
    "labelled_blogping_reliability['bias'] = bias_df['bias']\n",
    "labelled_blogping_reliability['reliability'] = labelled_blogping_reliability.label.astype(int).replace(label_schemes['reliability'])\n",
    "labelled_blogping_reliability.corr()['reliability']"
   ]
  },
  {
   "cell_type": "code",
   "execution_count": 26,
   "metadata": {},
   "outputs": [
    {
     "data": {
      "text/plain": [
       "blogspot_backlinks        -0.008697\n",
       "blogspot_refpages          0.029969\n",
       "blogspot_count             0.205554\n",
       "label                     -0.563777\n",
       "backlinks                 -0.014670\n",
       "refpages                  -0.012993\n",
       "pages                     -0.084955\n",
       "valid_pages               -0.085043\n",
       "text                      -0.014653\n",
       "image                     -0.015360\n",
       "nofollow                  -0.014284\n",
       "ugc                       -0.016550\n",
       "sponsored                 -0.021493\n",
       "dofollow                  -0.014693\n",
       "redirect                  -0.013228\n",
       "canonical                 -0.077278\n",
       "gov                       -0.013296\n",
       "edu                       -0.014054\n",
       "rss                       -0.023956\n",
       "alternate                 -0.013808\n",
       "html_pages                -0.065981\n",
       "links_internal            -0.071336\n",
       "links_external            -0.073610\n",
       "refdomains                -0.023895\n",
       "refclass_c                -0.110523\n",
       "refips                    -0.051347\n",
       "linked_root_domains       -0.104888\n",
       "blogspot_link_ratio        0.262399\n",
       "blogspot_page_ratio        0.263855\n",
       "log_blogspot_link_ratio    0.206810\n",
       "proportion_ugc             0.068226\n",
       "proportion_edu            -0.093805\n",
       "bias                       0.152510\n",
       "abs_bias                   1.000000\n",
       "Name: abs_bias, dtype: float64"
      ]
     },
     "execution_count": 26,
     "metadata": {},
     "output_type": "execute_result"
    }
   ],
   "source": [
    "labelled_blogping_bias = pd.merge(labelled_blogping, bias_df, how='inner', on='url')\n",
    "labelled_blogping_bias.corr()['abs_bias']"
   ]
  },
  {
   "cell_type": "code",
   "execution_count": 27,
   "metadata": {},
   "outputs": [
    {
     "data": {
      "text/plain": [
       "blogspot_backlinks        -0.027155\n",
       "blogspot_refpages         -0.022489\n",
       "blogspot_count             0.017058\n",
       "label                     -0.378883\n",
       "backlinks                 -0.026711\n",
       "refpages                  -0.024665\n",
       "pages                     -0.061716\n",
       "valid_pages               -0.061781\n",
       "text                      -0.026676\n",
       "image                     -0.028383\n",
       "nofollow                  -0.027855\n",
       "ugc                       -0.032584\n",
       "sponsored                 -0.037066\n",
       "dofollow                  -0.026539\n",
       "redirect                  -0.026758\n",
       "canonical                 -0.043773\n",
       "gov                       -0.024285\n",
       "edu                       -0.024903\n",
       "rss                       -0.028690\n",
       "alternate                 -0.047448\n",
       "html_pages                -0.046667\n",
       "links_internal            -0.019887\n",
       "links_external            -0.029682\n",
       "refdomains                -0.039684\n",
       "refclass_c                -0.160899\n",
       "refips                    -0.083362\n",
       "linked_root_domains       -0.175965\n",
       "blogspot_link_ratio        0.052298\n",
       "blogspot_page_ratio        0.056585\n",
       "log_blogspot_link_ratio    0.029336\n",
       "proportion_ugc             0.065537\n",
       "proportion_edu            -0.025892\n",
       "bias                       0.945664\n",
       "rel_bias                   1.000000\n",
       "Name: rel_bias, dtype: float64"
      ]
     },
     "execution_count": 27,
     "metadata": {},
     "output_type": "execute_result"
    }
   ],
   "source": [
    "labelled_blogping_rel_bias = pd.merge(labelled_blogping, rel_bias_df, how='inner', on='url')\n",
    "labelled_blogping_rel_bias.corr()['rel_bias']"
   ]
  }
 ],
 "metadata": {
  "kernelspec": {
   "display_name": "Python 3.8.2 ('env_seo': venv)",
   "language": "python",
   "name": "python3"
  },
  "language_info": {
   "codemirror_mode": {
    "name": "ipython",
    "version": 3
   },
   "file_extension": ".py",
   "mimetype": "text/x-python",
   "name": "python",
   "nbconvert_exporter": "python",
   "pygments_lexer": "ipython3",
   "version": "3.8.10"
  },
  "orig_nbformat": 4,
  "vscode": {
   "interpreter": {
    "hash": "3aadb1e6c7a6097b06874fc4b0602dd00f913031abfe2aa10e164da6c7121659"
   }
  }
 },
 "nbformat": 4,
 "nbformat_minor": 2
}
