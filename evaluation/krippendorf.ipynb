{
 "cells": [
  {
   "cell_type": "code",
   "execution_count": 2,
   "metadata": {},
   "outputs": [
    {
     "data": {
      "text/plain": [
       "0.8602150537634409"
      ]
     },
     "execution_count": 2,
     "metadata": {},
     "output_type": "execute_result"
    }
   ],
   "source": [
    "import simpledorff\n",
    "import pandas as pd\n",
    "\n",
    "kripp_data = pd.read_csv('annotations/inter_annotator_aggrement.csv')\n",
    "kripp_data['rel_bin'] = kripp_data['rel'] > 3\n",
    "kripp_data[\"rel_bin\"] = kripp_data[\"rel_bin\"].astype(int)\n",
    "kripp_data['bias_bin'] = kripp_data['bias'] > 0\n",
    "kripp_data[\"bias_bin\"] = kripp_data[\"bias_bin\"].astype(int)\n",
    "simpledorff.calculate_krippendorffs_alpha_for_df(kripp_data,experiment_col='url',\n",
    "                                                 annotator_col='annotator',\n",
    "                                                 class_col='rel_bin')"
   ]
  },
  {
   "cell_type": "code",
   "execution_count": 4,
   "metadata": {},
   "outputs": [
    {
     "data": {
      "text/plain": [
       "0.70076726342711"
      ]
     },
     "execution_count": 4,
     "metadata": {},
     "output_type": "execute_result"
    }
   ],
   "source": [
    "simpledorff.calculate_krippendorffs_alpha_for_df(kripp_data,experiment_col='url',\n",
    "                                                 annotator_col='annotator',\n",
    "                                                 class_col='bias_bin')"
   ]
  },
  {
   "cell_type": "code",
   "execution_count": 3,
   "metadata": {},
   "outputs": [
    {
     "name": "stdout",
     "output_type": "stream",
     "text": [
      "Example from http://en.wikipedia.org/wiki/Krippendorff's_Alpha\n",
      "nominal metric: 0.860\n"
     ]
    }
   ],
   "source": [
    "'''\n",
    "Python implementation of Krippendorff's alpha -- inter-rater reliability\n",
    "(c)2011-17 Thomas Grill (http://grrrr.org)\n",
    "Python version >= 2.4 required\n",
    "'''\n",
    "\n",
    "from __future__ import print_function\n",
    "try:\n",
    "    import numpy as np\n",
    "except ImportError:\n",
    "    np = None\n",
    "\n",
    "\n",
    "def nominal_metric(a, b):\n",
    "    return a != b\n",
    "\n",
    "\n",
    "def interval_metric(a, b):\n",
    "    return (a-b)**2\n",
    "\n",
    "\n",
    "def ratio_metric(a, b):\n",
    "    return ((a-b)/(a+b))**2\n",
    "\n",
    "\n",
    "def krippendorff_alpha(data, metric=interval_metric, force_vecmath=False, convert_items=float, missing_items=None):\n",
    "    '''\n",
    "    Calculate Krippendorff's alpha (inter-rater reliability):\n",
    "    \n",
    "    data is in the format\n",
    "    [\n",
    "        {unit1:value, unit2:value, ...},  # coder 1\n",
    "        {unit1:value, unit3:value, ...},   # coder 2\n",
    "        ...                            # more coders\n",
    "    ]\n",
    "    or \n",
    "    it is a sequence of (masked) sequences (list, numpy.array, numpy.ma.array, e.g.) with rows corresponding to coders and columns to items\n",
    "    \n",
    "    metric: function calculating the pairwise distance\n",
    "    force_vecmath: force vector math for custom metrics (numpy required)\n",
    "    convert_items: function for the type conversion of items (default: float)\n",
    "    missing_items: indicator for missing items (default: None)\n",
    "    '''\n",
    "    \n",
    "    # number of coders\n",
    "    m = len(data)\n",
    "    \n",
    "    # set of constants identifying missing values\n",
    "    if missing_items is None:\n",
    "        maskitems = []\n",
    "    else:\n",
    "        maskitems = list(missing_items)\n",
    "    if np is not None:\n",
    "        maskitems.append(np.ma.masked_singleton)\n",
    "    \n",
    "    # convert input data to a dict of items\n",
    "    units = {}\n",
    "    for d in data:\n",
    "        try:\n",
    "            # try if d behaves as a dict\n",
    "            diter = d.items()\n",
    "        except AttributeError:\n",
    "            # sequence assumed for d\n",
    "            diter = enumerate(d)\n",
    "            \n",
    "        for it, g in diter:\n",
    "            if g not in maskitems:\n",
    "                try:\n",
    "                    its = units[it]\n",
    "                except KeyError:\n",
    "                    its = []\n",
    "                    units[it] = its\n",
    "                its.append(convert_items(g))\n",
    "\n",
    "\n",
    "    units = dict((it, d) for it, d in units.items() if len(d) > 1)  # units with pairable values\n",
    "    n = sum(len(pv) for pv in units.values())  # number of pairable values\n",
    "    \n",
    "    if n == 0:\n",
    "        raise ValueError(\"No items to compare.\")\n",
    "    \n",
    "    np_metric = (np is not None) and ((metric in (interval_metric, nominal_metric, ratio_metric)) or force_vecmath)\n",
    "    \n",
    "    Do = 0.\n",
    "    for grades in units.values():\n",
    "        if np_metric:\n",
    "            gr = np.asarray(grades)\n",
    "            Du = sum(np.sum(metric(gr, gri)) for gri in gr)\n",
    "        else:\n",
    "            Du = sum(metric(gi, gj) for gi in grades for gj in grades)\n",
    "        Do += Du/float(len(grades)-1)\n",
    "    Do /= float(n)\n",
    "\n",
    "    if Do == 0:\n",
    "        return 1.\n",
    "\n",
    "    De = 0.\n",
    "    for g1 in units.values():\n",
    "        if np_metric:\n",
    "            d1 = np.asarray(g1)\n",
    "            for g2 in units.values():\n",
    "                De += sum(np.sum(metric(d1, gj)) for gj in g2)\n",
    "        else:\n",
    "            for g2 in units.values():\n",
    "                De += sum(metric(gi, gj) for gi in g1 for gj in g2)\n",
    "    De /= float(n*(n-1))\n",
    "\n",
    "    return 1.-Do/De if (Do and De) else 1.\n",
    "\n",
    "\n",
    "print(\"Example from http://en.wikipedia.org/wiki/Krippendorff's_Alpha\")\n",
    "\n",
    "data = (\n",
    "    \"*    *    *    *    *    3    4    1    2    1    1    3    3    *    3\", # coder A\n",
    "    \"1    *    2    1    3    3    4    3    *    *    *    *    *    *    *\", # coder B\n",
    "    \"*    *    2    1    3    4    4    *    2    1    1    3    3    *    4\", # coder C\n",
    ")\n",
    "\n",
    "missing = '*' # indicator for missing values\n",
    "peter = kripp_data[kripp_data['annotator']=='peter']['rel_bin'].to_numpy()\n",
    "evan = kripp_data[kripp_data['annotator']=='evan']['rel_bin'].to_numpy()\n",
    "array = [peter, evan]  # convert to 2D list of string items\n",
    "\n",
    "\n",
    "\n",
    "print(\"nominal metric: %.3f\" % krippendorff_alpha(array, nominal_metric, missing_items=missing))\n",
    "# print(\"interval metric: %.3f\" % krippendorff_alpha(array, interval_metric, missing_items=missing))"
   ]
  }
 ],
 "metadata": {
  "kernelspec": {
   "display_name": "env_seo",
   "language": "python",
   "name": "python3"
  },
  "language_info": {
   "codemirror_mode": {
    "name": "ipython",
    "version": 3
   },
   "file_extension": ".py",
   "mimetype": "text/x-python",
   "name": "python",
   "nbconvert_exporter": "python",
   "pygments_lexer": "ipython3",
   "version": "3.8.10"
  }
 },
 "nbformat": 4,
 "nbformat_minor": 2
}
