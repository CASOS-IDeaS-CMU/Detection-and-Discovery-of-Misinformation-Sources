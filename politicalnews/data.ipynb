{
 "cells": [
  {
   "cell_type": "code",
   "execution_count": 2,
   "metadata": {},
   "outputs": [],
   "source": [
    "import pandas as pd\n",
    "\n",
    "df_politi = pd.read_csv('data/domains.csv')\n",
    "df_mbfc = pd.read_csv('../data/filtered_attrs.csv')"
   ]
  },
  {
   "cell_type": "code",
   "execution_count": 5,
   "metadata": {},
   "outputs": [],
   "source": [
    "df_intersection = pd.merge(df_politi, df_mbfc, on='url', how='inner')\n",
    "df_left = pd.merge(df_politi, df_mbfc, on='url', how='left')\n",
    "df_politi_only = df_left[df_left['label'].isnull()]\n",
    "df_right = pd.merge(df_politi, df_mbfc, on='url', how='right')\n",
    "df_mbfc_only = df_right[df_right[' fake'].isnull()]"
   ]
  },
  {
   "cell_type": "code",
   "execution_count": 7,
   "metadata": {},
   "outputs": [],
   "source": [
    "import os\n",
    "import csv\n",
    "from urllib.parse import urlparse\n",
    "\n",
    "def count_domain_occurrences(folder_path):\n",
    "    domain_counts = {}\n",
    "    \n",
    "    # Iterate over each file in the folder\n",
    "    for filename in os.listdir(folder_path):\n",
    "        if filename.endswith(\".csv\"):\n",
    "            file_path = os.path.join(folder_path, filename)\n",
    "            \n",
    "            # Open the CSV file\n",
    "            with open(file_path, \"r\") as file:\n",
    "                csv_reader = csv.reader(file)\n",
    "                # Iterate over each row in the CSV\n",
    "                for row in csv_reader:\n",
    "                    url = row[0]\n",
    "                    parsed_url = urlparse(url)\n",
    "                    domain = parsed_url.netloc\n",
    "                    if domain == None or domain == '':\n",
    "                        continue\n",
    "                    if domain.startswith('www.'):\n",
    "                        domain = domain[4:]    \n",
    "                        # Count the occurrences of each domain\n",
    "                    if domain in domain_counts:\n",
    "                        domain_counts[domain] += 1\n",
    "                    else:\n",
    "                        domain_counts[domain] = 1\n",
    "    \n",
    "    return domain_counts\n",
    "\n",
    "fake_domains = count_domain_occurrences('data/PoliticalNews/1/')\n",
    "news_domains = count_domain_occurrences('data/PoliticalNews/0/')"
   ]
  },
  {
   "cell_type": "code",
   "execution_count": 8,
   "metadata": {},
   "outputs": [
    {
     "name": "stdout",
     "output_type": "stream",
     "text": [
      "{'adn.com': 32,\n",
      " 'arkansasonline.com': 64,\n",
      " 'asianage.com': 128,\n",
      " 'baltimoresun.com': 192,\n",
      " 'buffalonews.com': 96,\n",
      " 'calgaryherald.com': 96,\n",
      " 'canberratimes.com.au': 64,\n",
      " 'chicagotribune.com': 192,\n",
      " 'chron.com': 192,\n",
      " 'cnbc.com': 192,\n",
      " 'courant.com': 160,\n",
      " 'csmonitor.com': 192,\n",
      " 'dallasobserver.com': 64,\n",
      " 'deccanchronicle.com': 32,\n",
      " 'dnaindia.com': 192,\n",
      " 'duluthnewstribune.com': 160,\n",
      " 'edmontonjournal.com': 64,\n",
      " 'euronews.com': 192,\n",
      " 'france24.com': 192,\n",
      " 'grandforksherald.com': 32,\n",
      " 'houstonpress.com': 64,\n",
      " 'huffingtonpost.com': 192,\n",
      " 'illawarramercury.com.au': 96,\n",
      " 'indianexpress.com': 96,\n",
      " 'lasvegassun.com': 64,\n",
      " 'losangeles.cbslocal.com': 192,\n",
      " 'mcall.com': 192,\n",
      " 'militarytimes.com': 64,\n",
      " 'montrealgazette.com': 192,\n",
      " 'nationalpost.com': 160,\n",
      " 'newrepublic.com': 192,\n",
      " 'newsday.com': 192,\n",
      " 'newsok.com': 32,\n",
      " 'newsweek.com': 192,\n",
      " 'nypost.com': 64,\n",
      " 'orlandosentinel.com': 192,\n",
      " 'phoenixnewtimes.com': 64,\n",
      " 'reuters.com': 91,\n",
      " 'rollcall.com': 64,\n",
      " 'sandiegouniontribune.com': 64,\n",
      " 'sfchronicle.com': 192,\n",
      " 'sfgate.com': 160,\n",
      " 'smh.com.au': 96,\n",
      " 'straight.com': 128,\n",
      " 'sun-sentinel.com': 192,\n",
      " 'tampabay.com': 32,\n",
      " 'theage.com.au': 160,\n",
      " 'theconversation.com': 64,\n",
      " 'thedailybeast.com': 96,\n",
      " 'thehill.com': 192,\n",
      " 'theprovince.com': 160,\n",
      " 'theweek.com': 96,\n",
      " 'thewest.com.au': 64,\n",
      " 'time.com': 64,\n",
      " 'triblive.com': 32,\n",
      " 'uk.reuters.com': 101,\n",
      " 'vancouversun.com': 160,\n",
      " 'westword.com': 32,\n",
      " 'wtop.com': 96}\n"
     ]
    }
   ],
   "source": [
    "from pprint import pprint\n",
    "pprint(news_domains)"
   ]
  }
 ],
 "metadata": {
  "kernelspec": {
   "display_name": "env_seo",
   "language": "python",
   "name": "python3"
  },
  "language_info": {
   "codemirror_mode": {
    "name": "ipython",
    "version": 3
   },
   "file_extension": ".py",
   "mimetype": "text/x-python",
   "name": "python",
   "nbconvert_exporter": "python",
   "pygments_lexer": "ipython3",
   "version": "3.8.10"
  },
  "orig_nbformat": 4,
  "vscode": {
   "interpreter": {
    "hash": "7849e7bbfc8a172a055556edae1fedc2a22a02afeeefc5ab99ca2ca8666466e0"
   }
  }
 },
 "nbformat": 4,
 "nbformat_minor": 2
}
