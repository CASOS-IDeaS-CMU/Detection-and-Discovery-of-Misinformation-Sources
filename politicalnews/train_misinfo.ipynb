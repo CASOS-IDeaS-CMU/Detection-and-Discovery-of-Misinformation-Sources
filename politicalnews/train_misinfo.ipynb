{
 "cells": [
  {
   "cell_type": "markdown",
   "metadata": {},
   "source": [
    "### Binary classification on misinfo labels"
   ]
  },
  {
   "cell_type": "code",
   "execution_count": 1,
   "metadata": {},
   "outputs": [],
   "source": [
    "from sklearn.model_selection import KFold\n",
    "from sklearn.ensemble import RandomForestRegressor\n",
    "from sklearn.tree import DecisionTreeClassifier\n",
    "from sklearn.neural_network import MLPClassifier\n",
    "from sklearn import svm\n",
    "import numpy as np\n",
    "from catboost import Pool, cv, CatBoostClassifier\n",
    "import lightgbm as lgb\n",
    "import pandas as pd\n",
    "from sklearn.model_selection import train_test_split\n",
    "import seaborn as sns\n",
    "from sklearn.ensemble import RandomForestClassifier\n",
    "from sklearn.metrics import ConfusionMatrixDisplay, confusion_matrix\n",
    "import matplotlib.pyplot as plt\n",
    "from sklearn.metrics import f1_score"
   ]
  },
  {
   "cell_type": "code",
   "execution_count": 2,
   "metadata": {},
   "outputs": [
    {
     "data": {
      "text/plain": [
       "Text(0, 0.5, 'Count')"
      ]
     },
     "execution_count": 2,
     "metadata": {},
     "output_type": "execute_result"
    },
    {
     "data": {
      "image/png": "[encoded data removed]",
      "text/plain": [
       "<Figure size 432x288 with 1 Axes>"
      ]
     },
     "metadata": {
      "needs_background": "light"
     },
     "output_type": "display_data"
    }
   ],
   "source": [
    "import pandas as pd\n",
    "from sklearn.model_selection import train_test_split\n",
    "import matplotlib.pyplot as plt\n",
    "\n",
    "df = pd.read_csv ('politifact_seo_attributes.csv')\n",
    "# load labels\n",
    "df_labels = pd.read_csv('domains.csv')\n",
    "\n",
    "df_filtered = df.copy()#[df['label'].isin([1,3])]r\n",
    "df_filtered.reset_index(drop=True, inplace=True)\n",
    "# df_filtered.loc[df_filtered[\"label\"] == 1, \"label\"] = 2 # FOR GRAPHING\n",
    "# df_filtered['label']\n",
    "fig, ax = plt.subplots()\n",
    "df_labels.hist(column=' fake',ax = ax, align='mid')\n",
    "# fig.suptitle('Reliability labels')\n",
    "ax.set_title('Reliability labels')\n",
    "ax.set_xlabel('Reliability')\n",
    "ax.set_ylabel('Count')\n"
   ]
  },
  {
   "cell_type": "code",
   "execution_count": 3,
   "metadata": {},
   "outputs": [],
   "source": [
    "# df_filtered = df_filtered.groupby('label', group_keys=False).apply(lambda x: x.sample(min(len(x), 2241)))\n",
    "dropped_cols = ['url']#, 'edu', 'gov','ugc' ]\n",
    "# dropped_attrs = ['edu', 'gov']\n",
    "# df_filtered.drop(columns=dropped_attrs, inplace=True)\n",
    "X = df_filtered.drop(columns = dropped_cols)#[['backlinks',\t'text',\t'image',\t'nofollow',\t'redirect',\t\t'gov',\t'edu',\t'refdomains']]\n",
    "y = df_labels[' fake']\n"
   ]
  },
  {
   "cell_type": "code",
   "execution_count": 4,
   "metadata": {},
   "outputs": [],
   "source": [
    "import os\n",
    "import csv\n",
    "from urllib.parse import urlparse\n",
    "\n",
    "def count_domain_occurrences(folder_path):\n",
    "    domain_counts = {}\n",
    "    \n",
    "    # Iterate over each file in the folder\n",
    "    for filename in os.listdir(folder_path):\n",
    "        if filename.endswith(\".csv\"):\n",
    "            file_path = os.path.join(folder_path, filename)\n",
    "            \n",
    "            # Open the CSV file\n",
    "            with open(file_path, \"r\") as file:\n",
    "                csv_reader = csv.reader(file)\n",
    "                # Iterate over each row in the CSV\n",
    "                for row in csv_reader:\n",
    "                    url = row[0]\n",
    "                    parsed_url = urlparse(url)\n",
    "                    domain = parsed_url.netloc\n",
    "                    if domain == None or domain == '':\n",
    "                        continue\n",
    "                    if domain.startswith('www.'):\n",
    "                        domain = domain[4:]    \n",
    "                        # Count the occurrences of each domain\n",
    "                    if domain in domain_counts:\n",
    "                        domain_counts[domain] += 1\n",
    "                    else:\n",
    "                        domain_counts[domain] = 1\n",
    "    \n",
    "    return domain_counts\n",
    "\n",
    "fake_domains = count_domain_occurrences('data/PoliticalNews/1/')\n",
    "news_domains = count_domain_occurrences('data/PoliticalNews/0/')"
   ]
  },
  {
   "cell_type": "code",
   "execution_count": 5,
   "metadata": {},
   "outputs": [],
   "source": [
    "domain_counts = {**fake_domains, **news_domains}\n",
    "df_domain_counts = pd.DataFrame.from_dict(domain_counts, orient='index')\n",
    "df_domain_counts.reset_index(inplace=True)\n",
    "df_domain_counts.columns=['url', 'count']\n",
    "\n",
    "df_filtered_counts = df_filtered.merge(df_domain_counts, on='url', how='inner')"
   ]
  },
  {
   "cell_type": "code",
   "execution_count": 6,
   "metadata": {},
   "outputs": [],
   "source": [
    "from sklearn.ensemble import RandomForestClassifier\n",
    "from sklearn.metrics import ConfusionMatrixDisplay, confusion_matrix\n",
    "import matplotlib.pyplot as plt\n",
    "from sklearn.metrics import f1_score, accuracy_score, auc, roc_curve\n",
    "\n",
    "clfs = {\n",
    "    # \"Boosted DT\": CatBoostClassifier(verbose=False, random_state=0),\n",
    "    # \"RF\": RandomForestRegressor(n_estimators=50, random_state=0),\n",
    "    # \"DT\": DecisionTreeClassifier(random_state=0),\n",
    "    # \"MLP\": MLPClassifier(random_state=0, max_iter=200, hidden_layer_sizes=(200,200)),\n",
    "    # \"SVM\": svm.SVC(kernel='poly'),\n",
    "}\n",
    "\n",
    "false_positives = []\n",
    "false_negatives = []\n",
    "kf = KFold(n_splits=5, shuffle=True)\n",
    "\n",
    "results = {}\n",
    "\n",
    "_X = X.to_numpy()\n",
    "_y = y.to_numpy()\n",
    "_counts = df_filtered_counts['count'].to_numpy()\n",
    "\n",
    "for clf_name in clfs.keys():\n",
    "    rs = []\n",
    "    f1s = []\n",
    "    ps = []\n",
    "    accs = []\n",
    "    aucs = []\n",
    "    for train_index, test_index in kf.split(_X, _y):\n",
    "        X_train, X_test = _X[train_index], _X[test_index]\n",
    "        y_train, y_test, counts = _y[train_index], _y[test_index], _counts[test_index]\n",
    "        clf = clfs[clf_name]\n",
    "        clf = clf.fit(X_train, y_train)\n",
    "        scores = np.rint(clf.predict(X_test)).astype(int)\n",
    "\n",
    "        tp = np.sum((scores & y_test) * counts)\n",
    "        fn = np.sum((scores & (1 - y_test)) * counts)\n",
    "        fp = np.sum(((1-scores) & y_test) * counts)\n",
    "        total = np.sum(y_test*counts)\n",
    "\n",
    "        P = tp / (tp + fp)\n",
    "        R = tp / (tp + fn)\n",
    "        F1 = 2*P*R/(P+R)\n",
    "        ACC = tp / total\n",
    "        accs.append(ACC)\n",
    "        f1s.append(F1)\n",
    "        rs.append(R)\n",
    "        ps.append(P)\n",
    "\n",
    "        scores_repeated = np.repeat(scores, counts)\n",
    "        test_repeated = np.repeat(y_test, counts)\n",
    "        fpr, tpr, _ = roc_curve(y_test, np.rint(scores))\n",
    "        aucs.append(auc(fpr, tpr))\n",
    "        # if clf_name == 'Boosted DT':\n",
    "        #     false_positives = (predictions == 1) & (y_test == 0)\n",
    "        #     false_negatives = (predictions == 0) & (y_test == 1)\n",
    "    results[clf_name] = {}\n",
    "    results[clf_name]['F1'] = {np.mean(f1s)}\n",
    "    results[clf_name]['R'] = {np.mean(rs)}\n",
    "    results[clf_name]['P'] = {np.mean(ps)}\n",
    "    results[clf_name]['AUC'] = {np.mean(aucs)}\n",
    "    results[clf_name]['ACC'] = {np.mean(accs)}\n",
    "    print(clf_name + ': P: ' + str(np.mean(ps)) + f\", F1: {np.mean(f1s)}, R: {np.mean(rs)}, ACC: {np.mean(accs)}, AUC: {np.mean(aucs)}\")\n"
   ]
  },
  {
   "cell_type": "code",
   "execution_count": 7,
   "metadata": {},
   "outputs": [
    {
     "name": "stdout",
     "output_type": "stream",
     "text": [
      "{}\n"
     ]
    }
   ],
   "source": [
    "from pprint import pprint\n",
    "rounded = {}\n",
    "for alg in results:\n",
    "    rounded[alg] = {}\n",
    "    for metric in ['ACC','AUC']:\n",
    "        rounded[alg][metric] = round(list(results[alg][metric])[0], 2)\n",
    "pprint(rounded, )"
   ]
  },
  {
   "cell_type": "markdown",
   "metadata": {},
   "source": [
    "### Feature Importances"
   ]
  },
  {
   "cell_type": "code",
   "execution_count": 39,
   "metadata": {},
   "outputs": [],
   "source": [
    "import matplotlib.pyplot as plt\n",
    "\n",
    "def plot_co_importances(features, importances_a, name_a, importances_b, name_b):\n",
    "    plt.figure(figsize=(20, 3))\n",
    "    plt.bar(range(len(features)), importances_b, tick_label=features, alpha=0.6, color='#da291c', label=name_b)\n",
    "    plt.bar(range(len(features)), importances_a, tick_label=features, alpha=0.6, color='#003da5', label=name_a)\n",
    "    plt.xticks(rotation = 45)\n",
    "    plt.title('Reliability Feature Importances')\n",
    "    plt.legend()\n",
    "    plt.grid()\n"
   ]
  },
  {
   "cell_type": "code",
   "execution_count": 40,
   "metadata": {},
   "outputs": [
    {
     "data": {
      "image/png": "[encoded data removed]",
      "text/plain": [
       "<Figure size 1440x216 with 1 Axes>"
      ]
     },
     "metadata": {
      "needs_background": "light"
     },
     "output_type": "display_data"
    }
   ],
   "source": [
    "X_train, X_test, y_train, y_test, ind_train, ind_test = train_test_split(X, y, df_filtered.index, test_size=0.2, shuffle=True, random_state=24)\n",
    "cat_clf_politi = CatBoostClassifier(verbose=False, depth = 5)\n",
    "cat_clf_politi = cat_clf_politi.fit(X_train, y_train)\n",
    "features = X_train.columns\n",
    "features = list(features)\n",
    "features[-1] = 'linkeddomains'\n",
    "cat_clf_mbfc = CatBoostClassifier().load_model('../flat_models/model_misinfo_mbfc')\n",
    "plot_co_importances(features, cat_clf_politi.get_feature_importance(), 'PoliticalNews', cat_clf_mbfc.get_feature_importance(), 'MBFC*')\n",
    "plt.savefig('../results/fig/reliability_feature_importances.png', bbox_inches='tight', dpi=300)"
   ]
  }
 ],
 "metadata": {
  "kernelspec": {
   "display_name": "env_seo",
   "language": "python",
   "name": "python3"
  },
  "language_info": {
   "codemirror_mode": {
    "name": "ipython",
    "version": 3
   },
   "file_extension": ".py",
   "mimetype": "text/x-python",
   "name": "python",
   "nbconvert_exporter": "python",
   "pygments_lexer": "ipython3",
   "version": "3.8.10"
  },
  "orig_nbformat": 4,
  "vscode": {
   "interpreter": {
    "hash": "7849e7bbfc8a172a055556edae1fedc2a22a02afeeefc5ab99ca2ca8666466e0"
   }
  }
 },
 "nbformat": 4,
 "nbformat_minor": 2
}
