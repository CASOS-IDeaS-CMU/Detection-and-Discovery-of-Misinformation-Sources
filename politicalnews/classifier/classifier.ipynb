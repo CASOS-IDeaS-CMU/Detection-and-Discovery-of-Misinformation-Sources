{
 "cells": [
  {
   "cell_type": "code",
   "execution_count": 1,
   "metadata": {},
   "outputs": [],
   "source": [
    "import os\n",
    "import csv\n",
    "import pandas as pd\n",
    "\n",
    "def get_domain(url):\n",
    "    url = url.split('/')[2]\n",
    "    if url.startswith('www.'):\n",
    "        url = url[4:]\n",
    "    return url\n",
    "\n",
    "# Function to read CSV files from a directory and create a list of dictionaries\n",
    "def read_csv_files_from_directory(directory):\n",
    "    data = []\n",
    "    for filename in os.listdir(directory):\n",
    "        if filename.endswith('.csv'):\n",
    "            filepath = os.path.join(directory, filename)\n",
    "            with open(filepath, 'r', newline='') as csvfile:\n",
    "                csvreader = csv.reader(csvfile, quotechar='\"', escapechar='\\\\')\n",
    "                next(csvreader)  # Skip header row if present\n",
    "                for row in csvreader:\n",
    "                    data.append([get_domain(row[0])] + row[4:])\n",
    "    return data\n",
    "\n",
    "# Read positive and negative data directories\n",
    "positive_data_dir = 'fake'\n",
    "negative_data_dir = 'real'\n",
    "\n",
    "# Read data from CSV files\n",
    "positive_data = read_csv_files_from_directory(positive_data_dir)\n",
    "negative_data = read_csv_files_from_directory(negative_data_dir)\n",
    "positive_df = pd.DataFrame(positive_data)\n",
    "negative_df = pd.DataFrame(negative_data)\n",
    "\n",
    "# concat 2 series, positive_df[0], negative_df[0]\n",
    "# domains = pd.concat([positive_df[0], negative_df[0]])\n",
    "# positive_df = positive_df.drop(0, axis=1)  # Drop the domain column\n",
    "# negative_df = negative_df.drop(0, axis=1)  # Drop the domain column\n",
    "\n",
    "positive_df['label'] = 1\n",
    "negative_df['label'] = 0\n",
    "\n",
    "# Create a single dataframe combining positive and negative data\n",
    "data = pd.concat([positive_df, negative_df])\n",
    "# Separate features and labels\n",
    "# X = data.drop('label', axis=1)  # Assuming 'label' is the column containing the target labels\n",
    "# y = data['label']"
   ]
  },
  {
   "cell_type": "code",
   "execution_count": 2,
   "metadata": {},
   "outputs": [
    {
     "name": "stderr",
     "output_type": "stream",
     "text": [
      "/tmp/ipykernel_9516/67488497.py:6: FutureWarning: Index.__or__ operating as a set operation is deprecated, in the future this will be a logical operation matching Series.__or__.  Use index.union(other) instead.\n",
      "  df_seo_urls = df_combined[df_seo.columns | ['0', 'label']]\n"
     ]
    }
   ],
   "source": [
    "data.columns = data.columns.astype(str)\n",
    "df_seo = pd.read_csv ('politifact_seo_attributes.csv')\n",
    "df_combined = pd.merge(data, df_seo, left_on='0', right_on='url', how='inner')\n",
    "df_seo.drop('url', axis=1, inplace=True)\n",
    "df_combined.drop('url', axis=1, inplace=True)\n",
    "df_seo_urls = df_combined[df_seo.columns | ['0', 'label']]"
   ]
  },
  {
   "cell_type": "code",
   "execution_count": 4,
   "metadata": {},
   "outputs": [
    {
     "name": "stdout",
     "output_type": "stream",
     "text": [
      "5 fold CV results\n",
      "tag dataset, BDT clf: acc 0.839, f1 0.841\n",
      "tag dataset, RF clf: acc 0.823, f1 0.82\n",
      "tag dataset, DT clf: acc 0.79, f1 0.781\n",
      "tag dataset, MLP clf: acc 0.837, f1 0.846\n"
     ]
    }
   ],
   "source": [
    "from sklearn.model_selection import train_test_split\n",
    "from sklearn.ensemble import RandomForestClassifier\n",
    "from sklearn.metrics import accuracy_score, f1_score\n",
    "import random\n",
    "import numpy as np\n",
    "from sklearn.ensemble import RandomForestRegressor\n",
    "from sklearn.tree import DecisionTreeClassifier\n",
    "from sklearn.neural_network import MLPClassifier\n",
    "from sklearn import svm\n",
    "from catboost import CatBoostClassifier\n",
    "\n",
    "# TODO: make same as seo detection notebook\n",
    "# shuffled = data.sample(frac=1, random_state=42)\n",
    "domains = list(set(data['0'].tolist()))\n",
    "random.seed(10)\n",
    "random.shuffle(domains)\n",
    "# Split domains into train and test sets\n",
    "fold_size = int(len(domains) * 0.2)\n",
    "\n",
    "def get_cross_validation_ranges(data_list, num_folds):\n",
    "    total_items = len(data_list)\n",
    "    fold_size = total_items // num_folds\n",
    "    ranges = []\n",
    "\n",
    "    for fold in range(num_folds):\n",
    "        start_idx = fold * fold_size\n",
    "        end_idx = min((fold + 1) * fold_size, total_items)\n",
    "        ranges.append((start_idx, end_idx))\n",
    "    \n",
    "    return ranges\n",
    "\n",
    "cv_ranges = get_cross_validation_ranges(domains, 5)\n",
    "\n",
    "datasets = {\n",
    "    'tag': data,\n",
    "    'seo': df_seo_urls,\n",
    "    # 'tag+seo': df_combined,\n",
    "}\n",
    "\n",
    "print(f\"5 fold CV results\")\n",
    "results = {}\n",
    "\n",
    "clfs = {\n",
    "    \"BDT\": CatBoostClassifier(verbose=False, random_state=0),\n",
    "    \"RF\": RandomForestRegressor(n_estimators=50, random_state=0),\n",
    "    \"DT\": DecisionTreeClassifier(random_state=0),\n",
    "    \"MLP\": MLPClassifier(random_state=0, max_iter=200, hidden_layer_sizes=(200,200)),\n",
    "    \"SVM\": svm.SVC(kernel='linear'),\n",
    "}\n",
    "\n",
    "\n",
    "for name, df in datasets.items():\n",
    "    results[name] = {}\n",
    "    for (clf_name, clf) in clfs.items():\n",
    "        results[name][clf_name] = {}\n",
    "        accs = []\n",
    "        f1s = []\n",
    "        for i, (start, end) in enumerate(cv_ranges):\n",
    "            # print(f\"Fold {i+1}: Start index = {start}, End index = {end}\")\n",
    "            train_domains = domains[0:start] + domains[end:]\n",
    "            test_domains = domains[start:end]\n",
    "\n",
    "            # Initialize empty train and test URL lists\n",
    "            train_urls = []\n",
    "            test_urls = []\n",
    "\n",
    "            # Assign URLs to train and test based on domains\n",
    "            train = df[df['0'].isin(train_domains)]\n",
    "            test = df[df['0'].isin(test_domains)]\n",
    "\n",
    "            # Split the data into training and testing sets\n",
    "            X_train = train.drop(columns=['label','0'])\n",
    "            X_test = test.drop(columns=['label','0'])\n",
    "            y_train = train['label']\n",
    "            y_test = test['label']\n",
    "\n",
    "            # Create and train the Random Forest classifier\n",
    "            rf_classifier = clf\n",
    "            rf_classifier.fit(X_train, y_train)\n",
    "\n",
    "            # Make predictions on the test set\n",
    "            y_pred = rf_classifier.predict(X_test)\n",
    "\n",
    "            # Calculate accuracy and F1 score\n",
    "            accuracy = accuracy_score(y_test, np.rint(y_pred))\n",
    "            f1 = f1_score(y_test, np.rint(y_pred))\n",
    "\n",
    "            accs.append(accuracy)\n",
    "            f1s.append(f1)\n",
    "\n",
    "            # print(\"Accuracy:\", accuracy)\n",
    "            # print(\"F1 Score:\", f1)\n",
    "        results[name][clf_name]['acc'] = accs\n",
    "        results[name][clf_name]['f1'] = f1s\n",
    "        results[name][clf_name]['mean_acc'] = np.round(np.mean(accs), 3)\n",
    "        results[name][clf_name]['mean_f1'] = np.round(np.mean(f1s), 3)\n",
    "\n",
    "        print(f\"{name} dataset, {clf_name} clf: acc {np.round(np.mean(accs), 3)}, f1 {np.round(np.mean(f1s), 3)}\")"
   ]
  },
  {
   "cell_type": "code",
   "execution_count": null,
   "metadata": {},
   "outputs": [
    {
     "name": "stdout",
     "output_type": "stream",
     "text": [
      "BDT 96.2 & 0.96 & 82.5 & 0.82 & \n",
      "RF 91.3 & 0.92 & 78.3 & 0.76 & \n",
      "DT 93.6 & 0.94 & 80.7 & 0.8 & \n",
      "MLP 81.0 & 0.81 & 82.1 & 0.81 & \n",
      "SVM 92.7 & 0.93 & 80.1 & 0.8 & \n"
     ]
    }
   ],
   "source": [
    "for clf_name in clfs.keys():\n",
    "    res = \"\"\n",
    "    for ds in ['seo', 'tag']:\n",
    "        \n",
    "        res += str(round(results[ds][clf_name]['mean_acc']*100, 1))\n",
    "        res += \" & \"\n",
    "        res += str(round(results[ds][clf_name]['mean_f1'], 2))\n",
    "        res += \" & \"\n",
    "\n",
    "    print(clf_name, res)"
   ]
  },
  {
   "cell_type": "code",
   "execution_count": null,
   "metadata": {},
   "outputs": [
    {
     "name": "stdout",
     "output_type": "stream",
     "text": [
      "{'seo': {'acc': [1.0, 0.8555555555555555, 0.9633167749331295, 1.0, 1.0],\n",
      "         'f1': [1.0, 0.8470588235294119, 0.9629057187017002, 1.0, 1.0],\n",
      "         'mean_acc': 0.964,\n",
      "         'mean_f1': 0.962},\n",
      " 'tag': {'acc': [0.7640619101547754,\n",
      "                 0.8618055555555556,\n",
      "                 0.8658769583492548,\n",
      "                 0.8863057324840764,\n",
      "                 0.848828125],\n",
      "         'f1': [0.7437474374743747,\n",
      "                0.8701044386422977,\n",
      "                0.8548987184787102,\n",
      "                0.8871324691748339,\n",
      "                0.8374632507349852],\n",
      "         'mean_acc': 0.845,\n",
      "         'mean_f1': 0.839},\n",
      " 'tag+seo': {'acc': [1.0, 0.8555555555555555, 0.9633167749331295, 1.0, 1.0],\n",
      "             'f1': [1.0, 0.8470588235294119, 0.9629057187017002, 1.0, 1.0],\n",
      "             'mean_acc': 0.964,\n",
      "             'mean_f1': 0.962}}\n"
     ]
    }
   ],
   "source": [
    "from pprint import pprint\n",
    "pprint(results)"
   ]
  },
  {
   "cell_type": "code",
   "execution_count": null,
   "metadata": {},
   "outputs": [
    {
     "data": {
      "image/png": "[encoded data removed]",
      "text/plain": [
       "<Figure size 1440x216 with 1 Axes>"
      ]
     },
     "metadata": {
      "needs_background": "light"
     },
     "output_type": "display_data"
    }
   ],
   "source": [
    "import matplotlib.pyplot as plt\n",
    "\n",
    "def plot_importances(importances, features, name):\n",
    "    plt.figure(figsize=(20, 3))\n",
    "    \n",
    "    # Split importances and features based on your requirement\n",
    "    blue_importances = importances[:159]\n",
    "    red_importances = importances[159:]\n",
    "    \n",
    "    blue_features = features[:159]\n",
    "    red_features = features[159:]\n",
    "\n",
    "    # Create blue bars\n",
    "    plt.bar(range(len(blue_features)), blue_importances, color='blue', tick_label=blue_features, label='TAG Features')\n",
    "\n",
    "    # Create red bars\n",
    "    plt.bar(range(len(blue_features), len(features)), red_importances, color='red', tick_label=red_features, label='SEO Features')\n",
    "\n",
    "    # Disable xticks\n",
    "    plt.xticks([])\n",
    "\n",
    "    # Set title and legend\n",
    "    plt.title(name + ' Feature Importances')\n",
    "    plt.legend()\n",
    "    plt.savefig('feature_importances.png', bbox_inches='tight', dpi=300)\n",
    "    plt.show()\n",
    "\n",
    "rf_classifier = RandomForestClassifier()\n",
    "train_data = df_combined.drop(columns=['label','0'])\n",
    "rf_classifier = rf_classifier.fit(train_data, df_combined['label'])\n",
    "features = X_train.columns\n",
    "plot_importances(rf_classifier.feature_importances_, features, 'Reliability Classification Feature Importances')\n"
   ]
  }
 ],
 "metadata": {
  "kernelspec": {
   "display_name": "env_seo",
   "language": "python",
   "name": "python3"
  },
  "language_info": {
   "codemirror_mode": {
    "name": "ipython",
    "version": 3
   },
   "file_extension": ".py",
   "mimetype": "text/x-python",
   "name": "python",
   "nbconvert_exporter": "python",
   "pygments_lexer": "ipython3",
   "version": "3.8.10"
  },
  "orig_nbformat": 4
 },
 "nbformat": 4,
 "nbformat_minor": 2
}
